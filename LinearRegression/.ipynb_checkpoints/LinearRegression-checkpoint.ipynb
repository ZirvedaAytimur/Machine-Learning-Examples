{
 "cells": [
  {
   "cell_type": "code",
   "execution_count": 1,
   "metadata": {},
   "outputs": [],
   "source": [
    "import numpy as np\n",
    "import pandas as pd\n",
    "from sklearn.datasets import make_regression\n",
    "from sklearn.linear_model import LinearRegression\n",
    "from sklearn.model_selection import KFold, train_test_split, cross_val_predict, cross_val_score\n",
    "from sklearn import metrics\n",
    "import matplotlib.pyplot as plt\n",
    "import seaborn as sns"
   ]
  },
  {
   "cell_type": "code",
   "execution_count": 2,
   "metadata": {},
   "outputs": [],
   "source": [
    "x, y = make_regression(n_samples = 678\n",
    "                       ,n_features = 1\n",
    "                       ,n_targets = 1\n",
    "                       ,bias = .7 \n",
    "                       ,noise = 11\n",
    "                       ,shuffle = False\n",
    "                       )"
   ]
  },
  {
   "cell_type": "code",
   "execution_count": 3,
   "metadata": {},
   "outputs": [
    {
     "data": {
      "text/html": [
       "<div>\n",
       "<style scoped>\n",
       "    .dataframe tbody tr th:only-of-type {\n",
       "        vertical-align: middle;\n",
       "    }\n",
       "\n",
       "    .dataframe tbody tr th {\n",
       "        vertical-align: top;\n",
       "    }\n",
       "\n",
       "    .dataframe thead th {\n",
       "        text-align: right;\n",
       "    }\n",
       "</style>\n",
       "<table border=\"1\" class=\"dataframe\">\n",
       "  <thead>\n",
       "    <tr style=\"text-align: right;\">\n",
       "      <th></th>\n",
       "      <th>x</th>\n",
       "      <th>y</th>\n",
       "    </tr>\n",
       "  </thead>\n",
       "  <tbody>\n",
       "    <tr>\n",
       "      <th>0</th>\n",
       "      <td>-1.598050</td>\n",
       "      <td>-64.800332</td>\n",
       "    </tr>\n",
       "    <tr>\n",
       "      <th>1</th>\n",
       "      <td>0.420781</td>\n",
       "      <td>0.152362</td>\n",
       "    </tr>\n",
       "    <tr>\n",
       "      <th>2</th>\n",
       "      <td>-0.356374</td>\n",
       "      <td>8.076965</td>\n",
       "    </tr>\n",
       "    <tr>\n",
       "      <th>3</th>\n",
       "      <td>-0.027108</td>\n",
       "      <td>-13.462664</td>\n",
       "    </tr>\n",
       "    <tr>\n",
       "      <th>4</th>\n",
       "      <td>0.126722</td>\n",
       "      <td>12.224061</td>\n",
       "    </tr>\n",
       "  </tbody>\n",
       "</table>\n",
       "</div>"
      ],
      "text/plain": [
       "          x          y\n",
       "0 -1.598050 -64.800332\n",
       "1  0.420781   0.152362\n",
       "2 -0.356374   8.076965\n",
       "3 -0.027108 -13.462664\n",
       "4  0.126722  12.224061"
      ]
     },
     "execution_count": 3,
     "metadata": {},
     "output_type": "execute_result"
    }
   ],
   "source": [
    "df = pd.DataFrame({\"x\":x[:,0], \"y\":y},index=None)\n",
    "df.head()"
   ]
  },
  {
   "cell_type": "code",
   "execution_count": 4,
   "metadata": {},
   "outputs": [],
   "source": [
    "def scoreResults(model, x_train, x_test, y_train, y_test):\n",
    "\n",
    "    y_train_predict = model.predict(x_train)\n",
    "    y_test_predict = model.predict(x_test)\n",
    "\n",
    "    r2_train = metrics.r2_score(y_train, y_train_predict)\n",
    "    r2_test = metrics.r2_score(y_test, y_test_predict)\n",
    "\n",
    "    mse_train = metrics.mean_squared_error(y_train, y_train_predict)\n",
    "    mse_test = metrics.mean_squared_error(y_test, y_test_predict)\n",
    "\n",
    "    return [r2_train, r2_test, mse_train, mse_test]"
   ]
  },
  {
   "cell_type": "code",
   "execution_count": 9,
   "metadata": {},
   "outputs": [
    {
     "name": "stdout",
     "output_type": "stream",
     "text": [
      "Test R2 Score:    0.9299 MSE: 108.1115\n",
      "\n",
      "Test R2 Score:    0.9056 MSE: 138.3589\n",
      "\n"
     ]
    }
   ],
   "source": [
    "scores = []\n",
    "lr_cv = LinearRegression()\n",
    "k = 2\n",
    "iter = 1\n",
    "cv = KFold(n_splits=k, shuffle=False)\n",
    "for train_index, test_index in cv.split(x):\n",
    "    x_train, x_test, y_train, y_test = x[train_index], x[test_index], y[train_index], y[test_index]\n",
    "    lr_cv.fit(x_train, y_train)\n",
    "\n",
    "    result = scoreResults(model = lr_cv\n",
    "                          ,x_train = x_train\n",
    "                          ,x_test = x_test\n",
    "                          ,y_train = y_train\n",
    "                          ,y_test = y_test)\n",
    "    \n",
    "    print(f\"Test R2 Score: {result[1]:9.4f} MSE: {result[3]:.4f}\\n\")\n",
    "    iter += 1\n",
    "    scores.append(lr_cv.score(x_test, y_test))"
   ]
  },
  {
   "cell_type": "code",
   "execution_count": null,
   "metadata": {},
   "outputs": [],
   "source": []
  }
 ],
 "metadata": {
  "kernelspec": {
   "display_name": "Python 3",
   "language": "python",
   "name": "python3"
  },
  "language_info": {
   "codemirror_mode": {
    "name": "ipython",
    "version": 3
   },
   "file_extension": ".py",
   "mimetype": "text/x-python",
   "name": "python",
   "nbconvert_exporter": "python",
   "pygments_lexer": "ipython3",
   "version": "3.8.3"
  }
 },
 "nbformat": 4,
 "nbformat_minor": 4
}
