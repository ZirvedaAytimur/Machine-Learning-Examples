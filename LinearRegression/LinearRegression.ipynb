{
 "cells": [
  {
   "cell_type": "code",
   "execution_count": 1,
   "metadata": {},
   "outputs": [],
   "source": [
    "import pandas as pd\n",
    "from sklearn.datasets import make_regression\n",
    "from sklearn.linear_model import LinearRegression\n",
    "from sklearn.model_selection import KFold, train_test_split, cross_val_predict, cross_val_score\n",
    "from sklearn import metrics"
   ]
  },
  {
   "cell_type": "code",
   "execution_count": 2,
   "metadata": {},
   "outputs": [],
   "source": [
    "x, y = make_regression(n_samples = 678, n_features = 1, n_targets = 1, bias = .7, noise = 11, shuffle = False)"
   ]
  },
  {
   "cell_type": "code",
   "execution_count": 3,
   "metadata": {},
   "outputs": [
    {
     "data": {
      "text/html": [
       "<div>\n",
       "<style scoped>\n",
       "    .dataframe tbody tr th:only-of-type {\n",
       "        vertical-align: middle;\n",
       "    }\n",
       "\n",
       "    .dataframe tbody tr th {\n",
       "        vertical-align: top;\n",
       "    }\n",
       "\n",
       "    .dataframe thead th {\n",
       "        text-align: right;\n",
       "    }\n",
       "</style>\n",
       "<table border=\"1\" class=\"dataframe\">\n",
       "  <thead>\n",
       "    <tr style=\"text-align: right;\">\n",
       "      <th></th>\n",
       "      <th>x</th>\n",
       "      <th>y</th>\n",
       "    </tr>\n",
       "  </thead>\n",
       "  <tbody>\n",
       "    <tr>\n",
       "      <th>0</th>\n",
       "      <td>0.118093</td>\n",
       "      <td>-21.988567</td>\n",
       "    </tr>\n",
       "    <tr>\n",
       "      <th>1</th>\n",
       "      <td>0.458000</td>\n",
       "      <td>3.680503</td>\n",
       "    </tr>\n",
       "    <tr>\n",
       "      <th>2</th>\n",
       "      <td>0.214971</td>\n",
       "      <td>7.559550</td>\n",
       "    </tr>\n",
       "    <tr>\n",
       "      <th>3</th>\n",
       "      <td>-0.208269</td>\n",
       "      <td>4.017684</td>\n",
       "    </tr>\n",
       "    <tr>\n",
       "      <th>4</th>\n",
       "      <td>2.750601</td>\n",
       "      <td>64.160716</td>\n",
       "    </tr>\n",
       "  </tbody>\n",
       "</table>\n",
       "</div>"
      ],
      "text/plain": [
       "          x          y\n",
       "0  0.118093 -21.988567\n",
       "1  0.458000   3.680503\n",
       "2  0.214971   7.559550\n",
       "3 -0.208269   4.017684\n",
       "4  2.750601  64.160716"
      ]
     },
     "execution_count": 3,
     "metadata": {},
     "output_type": "execute_result"
    }
   ],
   "source": [
    "df = pd.DataFrame({\"x\":x[:,0], \"y\":y},index=None)\n",
    "df.head()"
   ]
  },
  {
   "cell_type": "code",
   "execution_count": 4,
   "metadata": {},
   "outputs": [],
   "source": [
    "def scoreResults(model, x_train, x_test, y_train, y_test):\n",
    "\n",
    "    y_train_predict = model.predict(x_train)\n",
    "    y_test_predict = model.predict(x_test)\n",
    "\n",
    "    r2_train = metrics.r2_score(y_train, y_train_predict)\n",
    "    r2_test = metrics.r2_score(y_test, y_test_predict)\n",
    "\n",
    "    mse_train = metrics.mean_squared_error(y_train, y_train_predict)\n",
    "    mse_test = metrics.mean_squared_error(y_test, y_test_predict)\n",
    "\n",
    "    return [r2_train, r2_test, mse_train, mse_test]"
   ]
  },
  {
   "cell_type": "code",
   "execution_count": 5,
   "metadata": {},
   "outputs": [
    {
     "name": "stdout",
     "output_type": "stream",
     "text": [
      "Test R2 Score:    0.7891 MSE: 128.3398\n",
      "\n",
      "Test R2 Score:    0.7847 MSE: 115.6398\n",
      "\n"
     ]
    }
   ],
   "source": [
    "scores = []\n",
    "lr_cv = LinearRegression()\n",
    "k = 2\n",
    "iter = 1\n",
    "cv = KFold(n_splits=k, shuffle=False)\n",
    "for train_index, test_index in cv.split(x):\n",
    "    x_train, x_test, y_train, y_test = x[train_index], x[test_index], y[train_index], y[test_index]\n",
    "    lr_cv.fit(x_train, y_train)\n",
    "\n",
    "    result = scoreResults(model = lr_cv\n",
    "                          ,x_train = x_train\n",
    "                          ,x_test = x_test\n",
    "                          ,y_train = y_train\n",
    "                          ,y_test = y_test)\n",
    "    \n",
    "    print(f\"Test R2 Score: {result[1]:9.4f} MSE: {result[3]:.4f}\\n\")\n",
    "    iter += 1\n",
    "    scores.append(lr_cv.score(x_test, y_test))"
   ]
  },
  {
   "cell_type": "code",
   "execution_count": null,
   "metadata": {},
   "outputs": [],
   "source": []
  }
 ],
 "metadata": {
  "kernelspec": {
   "display_name": "Python 3",
   "language": "python",
   "name": "python3"
  },
  "language_info": {
   "codemirror_mode": {
    "name": "ipython",
    "version": 3
   },
   "file_extension": ".py",
   "mimetype": "text/x-python",
   "name": "python",
   "nbconvert_exporter": "python",
   "pygments_lexer": "ipython3",
   "version": "3.8.3"
  }
 },
 "nbformat": 4,
 "nbformat_minor": 4
}
